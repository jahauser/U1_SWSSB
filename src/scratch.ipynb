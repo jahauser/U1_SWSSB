{
 "cells": [
  {
   "cell_type": "code",
   "execution_count": 1,
   "id": "2c315d6a",
   "metadata": {},
   "outputs": [],
   "source": [
    "using Random"
   ]
  },
  {
   "cell_type": "code",
   "execution_count": 12,
   "id": "deee1df1",
   "metadata": {},
   "outputs": [
    {
     "data": {
      "text/plain": [
       "foo (generic function with 1 method)"
      ]
     },
     "metadata": {},
     "output_type": "display_data"
    }
   ],
   "source": [
    "function foo(x::Int; rng=Random.GLOBAL_RNG)\n",
    "    rng2 = copy(rng)\n",
    "    println(rand(rng2))\n",
    "end"
   ]
  },
  {
   "cell_type": "code",
   "execution_count": 13,
   "id": "1fecacb9",
   "metadata": {},
   "outputs": [
    {
     "name": "stdout",
     "output_type": "stream",
     "text": [
      "0.5383210129299967\n",
      "0.5383210129299967\n",
      "0.5383210129299967\n"
     ]
    }
   ],
   "source": [
    "seed = MersenneTwister(1234)\n",
    "\n",
    "foo(5, rng=seed)\n",
    "foo(5, rng=seed)\n",
    "foo(5, rng=seed)"
   ]
  },
  {
   "cell_type": "code",
   "execution_count": null,
   "id": "81fa24e8",
   "metadata": {},
   "outputs": [],
   "source": []
  }
 ],
 "metadata": {
  "kernelspec": {
   "display_name": "Julia 1.11.6",
   "language": "julia",
   "name": "julia-1.11"
  },
  "language_info": {
   "file_extension": ".jl",
   "mimetype": "application/julia",
   "name": "julia",
   "version": "1.11.6"
  }
 },
 "nbformat": 4,
 "nbformat_minor": 5
}
